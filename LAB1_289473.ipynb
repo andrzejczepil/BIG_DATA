{
 "cells": [
  {
   "cell_type": "code",
   "execution_count": 1,
   "id": "e1c0ee14-13ba-4782-bbca-aed4caf6f8e1",
   "metadata": {},
   "outputs": [
    {
     "name": "stderr",
     "output_type": "stream",
     "text": [
      "/Users/U756317/Library/Python/3.9/lib/python/site-packages/urllib3/__init__.py:35: NotOpenSSLWarning: urllib3 v2 only supports OpenSSL 1.1.1+, currently the 'ssl' module is compiled with 'LibreSSL 2.8.3'. See: https://github.com/urllib3/urllib3/issues/3020\n",
      "  warnings.warn(\n"
     ]
    }
   ],
   "source": [
    "import pymongo\n",
    "from pymongo import MongoClient\n",
    "import requests\n",
    "import numpy as np\n",
    "from datetime import datetime\n",
    "class WebScraping:\n",
    "    headers={\"User-Agent\":\"Mozilla/5.0 (Macintosh; Intel Mac OS X 10_15_7) AppleWebKit/605.1.15 (KHTML, like Gecko) Version/17.4.1 Safari/605.1.15\"}\n",
    "    content=\"\"\n",
    "    db=np.nan\n",
    "    def __init__(self):\n",
    "        klient=MongoClient(\"mongodb://127.0.0.1:27017\")\n",
    "        self.db=klient['N5205_2024']\n",
    "    def pobierz(self,url):\n",
    "        r=requests.get(url,headers=self.headers,verify=False)\n",
    "        self.content=r.text\n",
    "        strona={'url':url,'contents':r.text,'date':datetime.now()}\n",
    "        rezultat=self.db.lab1.insert_one(strona)\n",
    "        print(\"wstawilem strone\",url,\"z numerem\",rezultat.inserted_id)"
   ]
  },
  {
   "cell_type": "code",
   "execution_count": 2,
   "id": "dfdf4223-d49a-4e2a-926a-a19023e86507",
   "metadata": {},
   "outputs": [
    {
     "name": "stdout",
     "output_type": "stream",
     "text": [
      "wstawilem strone http://httpforever.com/ z numerem 666dbd35b2773ff560a0c927\n"
     ]
    }
   ],
   "source": [
    "w=WebScraping()\n",
    "w.pobierz(\"http://httpforever.com/\")\n",
    "w.content[:100]\n",
    "if \"Warszawa\" in w.content:\n",
    "    print(\"Jest Warszawa\")\n",
    "if \"pogoda\" in w.content:\n",
    "    print(\"Jest pogoda\")"
   ]
  },
  {
   "cell_type": "code",
   "execution_count": 11,
   "id": "cb7db3d9-ea3b-493a-87c8-ffe54d795b96",
   "metadata": {},
   "outputs": [
    {
     "data": {
      "text/plain": [
       "1"
      ]
     },
     "execution_count": 11,
     "metadata": {},
     "output_type": "execute_result"
    }
   ],
   "source": [
    "w.db.lab1.count_documents({})\n"
   ]
  },
  {
   "cell_type": "code",
   "execution_count": 3,
   "id": "31fe24f5-a791-44eb-9dcf-71717d54dcce",
   "metadata": {},
   "outputs": [
    {
     "name": "stdout",
     "output_type": "stream",
     "text": [
      "<!DOCTYPE HTML>\n",
      "<html>\n",
      "\t<head>\n",
      "\t\t<title>HTTP Forever</title>\n",
      "\t\t<meta http-equiv=\"content-type\" content=\"text/html; charset=utf-8\" />\n",
      "\t\t<meta name=\"description\" content=\"A site that will always be available over HTTP!\" />\n",
      "\t\t<meta name=\"keywords\" content=\"HTTP WiFi Captive Portal\" />\n",
      "\t\t<!--[if lte IE 8]><script src=\"css/ie/html5shiv.js\"></script><![endif]-->\n",
      "\t\t<script src=\"https://cdnjs.cloudflare.com/ajax/libs/jquery/3.3.1/jquery.min.js\" integrity=\"sha256-FgpCb/KJQlLNfOu91ta32o/NMZxltwRo8QtmkMRdAu8=\" crossorigin=\"anonymous\"></script>\n",
      "\t\t<script src=\"https://cdnjs.cloudflare.com/ajax/libs/skel/3.0.1/skel.min.js\" integrity=\"sha256-3e+NvOq+D/yeJy1qrWpYkEUr6SlOCL5mHpc2nZfX74E=\" crossorigin=\"anonymous\"></script>\n",
      "\t\t<script src=\"https://cdnjs.cloudflare.com/ajax/libs/skel-layers/2.2.1/skel.min.js\" integrity=\"sha256-6xgf/CipbscdlAaUOAAlWVmpfPy9V5cQvZejxXSEfcw=\" crossorigin=\"anonymous\"></script>\n",
      "\t\t<script src=\"js/init.min.js\"></script>\n",
      "\t\t<noscript>\n",
      "\t\t\t<link rel=\"stylesheet\" href=\"https://cdnjs.cloudflare.com/ajax/libs/skel-layers/2.2.1/skel.min.css\" integrity=\"sha256-HoTbojxjAGIeiQMgAD2nqi6adFwcOUwoiPnr7mC7qBs=\" crossorigin=\"anonymous\" />\n",
      "\t\t\t<link rel=\"stylesheet\" href=\"css/style.min.css\" />\n",
      "\t\t\t<link rel=\"stylesheet\" href=\"css/style-wide.min.css\" />\n",
      "\t\t</noscript>\n",
      "\t\t<!--[if lte IE 8]><link rel=\"stylesheet\" href=\"css/ie/v8.min.css\" /><![endif]-->\n",
      "\t</head>\n",
      "\t<body class=\"landing\">\n",
      "\t\t\t<section id=\"banner\">\n",
      "\t\t\t\t<h2>HTTP FOREVER</h2>\n",
      "\t\t\t\t<p>A reliably insecure connection</p>\n",
      "\t\t\t</section>\n",
      "\t\t\t<div class=\"wrapper style1\">\n",
      "\t\t\t\t<section class=\"container\">\n",
      "\t\t\t\t\t<header class=\"major\">\n",
      "\t\t\t\t\t\t<h2>Why does this site exist?</h2>\n",
      "\t\t\t\t\t\t<p>This domain started out as my personal 'captive portal buster' but I wanted to publicise it for anyone to use. If you're on a train, in a hotel or bar, on a flight or anywhere that you have to login for WiFi, this site could help you!</p>\n",
      "\t\t\t\t\t</header>\n",
      "\t\t\t\t</section>\n",
      "\t\t\t</div>\n",
      "\t\t\t<div class=\"wrapper style2\">\n",
      "\t\t\t\t<section class=\"container\">\n",
      "\t\t\t\t\t<header class=\"major\">\n",
      "\t\t\t\t\t\t<h2>How does it work?</h2>\n",
      "\t\t\t\t\t\t<p>If you connect to a WiFi hotspot whilst out and about, sometimes you have to login or accept Terms and Conditions. To do that the 'captive portal' has to intercept one of your requests and inject the login page for the WiFi. This usually results in a big, red warning from your browser which you should <b>never</b> click through! Instead, open a new tab in your browser and come here!</b></p>\n",
      "\t\t\t\t\t</header>\n",
      "\t\t\t\t</section>\n",
      "\t\t\t</div>\n",
      "\t\t\t<div class=\"wrapper style3\">\n",
      "\t\t\t\t<section class=\"container\">\n",
      "\t\t\t\t\t<header class=\"major\">\n",
      "\t\t\t\t\t\t<h2>Can I use it?</h2>\n",
      "\t\t\t\t\t\t<p>Yes! Anyone is free to use or link to this site, just make sure you're always on the HTTP version: <a href=\"http://httpforever.com\">http://httpforever.com</a></p>\n",
      "\t\t\t\t\t</header>\n",
      "\t\t\t\t</section>\n",
      "\t\t\t</div>\n",
      "\t\t\t<div class=\"wrapper style1\">\n",
      "\t\t\t\t<section class=\"container 75%\">\n",
      "\t\t\t\t\t<header class=\"major\">\n",
      "\t\t\t\t\t\t<h2>Who built this?</h2>\n",
      "\t\t\t\t\t\t<p>This site was built by Scott Helme, a security researcher trying to help make the web more secure.</p>\n",
      "\t\t\t\t\t</header>\n",
      "\t\t\t\t\t<div id=\"contact\" class=\"box\">\n",
      "\t\t\t\t\t\t<div class=\"row uniform\">\n",
      "\t\t\t\t\t\t\t<div class=\"6u\">\n",
      "\t\t\t\t\t\t\t\t<ul class=\"labeled-icons\">\n",
      "\t\t\t\t\t\t\t\t\t<li>\n",
      "\t\t\t\t\t\t\t\t\t\t<h3 class=\"icon fa-twitter\"><span class=\"label\">Twitter</span></h3>\n",
      "\t\t\t\t\t\t\t\t\t\t<a href=\"https://twitter.com/Scott_Helme\" target=\"_blank\">twitter.com/Scott_Helme</a>\n",
      "\t\t\t\t\t\t\t\t\t</li>\n",
      "\t\t\t\t\t\t\t\t\t<li>\n",
      "\t\t\t\t\t\t\t\t\t\t<h3 class=\"icon fa-facebook\"><span class=\"label\">Facebook</span></h3>\n",
      "\t\t\t\t\t\t\t\t\t\t<a href=\"https://www.facebook.com/scott.helme\" target=\"_blank\">facebook.com/scott.helme</a>\n",
      "\t\t\t\t\t\t\t\t\t</li>\n",
      "\t\t\t\t\t\t\t\t\t<li>\n",
      "\t\t\t\t\t\t\t\t\t\t<h3 class=\"icon fa-linkedin\"><span class=\"label\">LinkedIn</span></h3>\n",
      "\t\t\t\t\t\t\t\t\t\t<a href=\"https://www.linkedin.com/in/scotthelme/\">linkedin.com/in/scotthelme</a>\n",
      "\t\t\t\t\t\t\t\t\t</li>\n",
      "\t\t\t\t\t\t\t\t</ul>\n",
      "\t\t\t\t\t\t\t</div>\n",
      "\t\t\t\t\t\t\t<div class=\"6u\">\n",
      "\t\t\t\t\t\t\t\t<ul class=\"labeled-icons\">\n",
      "\t\t\t\t\t\t\t\t\t<li>\n",
      "\t\t\t\t\t\t\t\t\t\t<h3 class=\"icon fa-globe\"><span class=\"label\">Website</span></h3>\n",
      "\t\t\t\t\t\t\t\t\t\t<a rel=\"author\" href=\"https://scotthelme.co.uk\">scotthelme.co.uk</a>\n",
      "\t\t\t\t\t\t\t\t\t</li>\n",
      "\t\t\t\t\t\t\t\t\t<li>\n",
      "\t\t\t\t\t\t\t\t\t\t<h3 class=\"icon fa-github\"><span class=\"label\">GitHub</span></h3>\n",
      "\t\t\t\t\t\t\t\t\t\t<a href=\"https://github.com/ScottHelme\">github.com/ScottHelme</a>\n",
      "\t\t\t\t\t\t\t\t\t</li>\n",
      "\t\t\t\t\t\t\t\t\t<li>\n",
      "\t\t\t\t\t\t\t\t\t\t<h3 class=\"icon fa-youtube\"><span class=\"label\">YouTube</span></h3>\n",
      "\t\t\t\t\t\t\t\t\t\t<a href=\"https://www.youtube.com/user/ScottHelme\">youtube.com/user/ScottHelme</a>\n",
      "\t\t\t\t\t\t\t\t\t</li>\n",
      "\t\t\t\t\t\t\t\t</ul>\n",
      "\t\t\t\t\t\t\t</div>\n",
      "\t\t\t\t\t\t</div>\n",
      "\t\t\t\t\t</div>\n",
      "\t\t\t\t</section>\n",
      "\t\t\t</div>\n",
      "\t\t\t<footer id=\"footer\">\n",
      "\t\t\t\t<div class=\"copyright\">\n",
      "\t\t\t\t\tCreated By Scott Helme - License <a href=\"https://creativecommons.org/licenses/by-sa/4.0/\">CC BY-SA 4.0</a> - <a href=\"https://scotthelme.co.uk/\" rel=\"author\">scotthelme.co.uk</a><br/>\n",
      "\t\t\t\t\tCheck out my other projects like <a href=\"https://report-uri.com\">Report URI</a>, <a href=\"https://securityheaders.com\">Security Headers</a> and <a href=\"https://crawler.ninja\">Crawler.Ninja</a>.\n",
      "\t\t\t\t</div>\n",
      "\t\t\t</footer>\n",
      "\t</body>\n",
      "</html> \n",
      " http://httpforever.com/\n"
     ]
    }
   ],
   "source": [
    "#Zadanie 3\n",
    "dane=w.db.lab1.find_one({\"url\":\"http://httpforever.com/\"})\n",
    "print(dane['contents'],\"\\n\",dane['url'][:300])"
   ]
  },
  {
   "cell_type": "code",
   "execution_count": null,
   "id": "2b7959db-a991-4267-a8ff-03441b2231db",
   "metadata": {
    "tags": []
   },
   "outputs": [],
   "source": [
    "# "
   ]
  },
  {
   "cell_type": "code",
   "execution_count": 4,
   "id": "656c0485-f25f-49c0-8a81-7272e7a30205",
   "metadata": {},
   "outputs": [
    {
     "name": "stdout",
     "output_type": "stream",
     "text": [
      "http://httpforever.com/ 2024-06-15 17:53:53.485000\n",
      "http://httpforever.com/ 2024-06-15 18:11:33.791000\n"
     ]
    }
   ],
   "source": [
    "wynik=w.db.lab1.find({})\n",
    "lista_url=[]\n",
    "lista_date=[]\n",
    "lista_contents=[]\n",
    "for x in wynik:\n",
    "    print(x['url'],x['date'])\n",
    "    lista_url.append(x['url'])\n",
    "    lista_date.append(x['date'])\n",
    "    lista_contents.append(x['contents'])"
   ]
  },
  {
   "cell_type": "code",
   "execution_count": 5,
   "id": "432c5193-f6fa-4848-9e7f-190baebd98bb",
   "metadata": {},
   "outputs": [],
   "source": [
    "import pandas as pd\n",
    "df=pd.DataFrame({'url':lista_url,'date':lista_date,'contents':lista_contents})"
   ]
  },
  {
   "cell_type": "code",
   "execution_count": 6,
   "id": "f0fe1a61-0041-490f-80cb-688e3af1cad6",
   "metadata": {},
   "outputs": [
    {
     "data": {
      "text/html": [
       "<div>\n",
       "<style scoped>\n",
       "    .dataframe tbody tr th:only-of-type {\n",
       "        vertical-align: middle;\n",
       "    }\n",
       "\n",
       "    .dataframe tbody tr th {\n",
       "        vertical-align: top;\n",
       "    }\n",
       "\n",
       "    .dataframe thead th {\n",
       "        text-align: right;\n",
       "    }\n",
       "</style>\n",
       "<table border=\"1\" class=\"dataframe\">\n",
       "  <thead>\n",
       "    <tr style=\"text-align: right;\">\n",
       "      <th></th>\n",
       "      <th>url</th>\n",
       "      <th>date</th>\n",
       "      <th>contents</th>\n",
       "    </tr>\n",
       "  </thead>\n",
       "  <tbody>\n",
       "    <tr>\n",
       "      <th>0</th>\n",
       "      <td>http://httpforever.com/</td>\n",
       "      <td>2024-06-15 17:53:53.485</td>\n",
       "      <td>&lt;!DOCTYPE HTML&gt;\\r\\n&lt;html&gt;\\r\\n\\t&lt;head&gt;\\r\\n\\t\\t&lt;...</td>\n",
       "    </tr>\n",
       "  </tbody>\n",
       "</table>\n",
       "</div>"
      ],
      "text/plain": [
       "                       url                    date  \\\n",
       "0  http://httpforever.com/ 2024-06-15 17:53:53.485   \n",
       "\n",
       "                                            contents  \n",
       "0  <!DOCTYPE HTML>\\r\\n<html>\\r\\n\\t<head>\\r\\n\\t\\t<...  "
      ]
     },
     "execution_count": 6,
     "metadata": {},
     "output_type": "execute_result"
    }
   ],
   "source": [
    "df.head(1)"
   ]
  },
  {
   "cell_type": "code",
   "execution_count": 7,
   "id": "76905b9a-ceff-459c-9f86-785de6ddaab9",
   "metadata": {},
   "outputs": [
    {
     "data": {
      "text/html": [
       "<div>\n",
       "<style scoped>\n",
       "    .dataframe tbody tr th:only-of-type {\n",
       "        vertical-align: middle;\n",
       "    }\n",
       "\n",
       "    .dataframe tbody tr th {\n",
       "        vertical-align: top;\n",
       "    }\n",
       "\n",
       "    .dataframe thead th {\n",
       "        text-align: right;\n",
       "    }\n",
       "</style>\n",
       "<table border=\"1\" class=\"dataframe\">\n",
       "  <thead>\n",
       "    <tr style=\"text-align: right;\">\n",
       "      <th></th>\n",
       "      <th>url</th>\n",
       "      <th>date</th>\n",
       "      <th>contents</th>\n",
       "    </tr>\n",
       "  </thead>\n",
       "  <tbody>\n",
       "    <tr>\n",
       "      <th>0</th>\n",
       "      <td>http://httpforever.com/</td>\n",
       "      <td>2024-06-15 17:53:53.485</td>\n",
       "      <td>&lt;!DOCTYPE HTML&gt;\\r\\n&lt;html&gt;\\r\\n\\t&lt;head&gt;\\r\\n\\t\\t&lt;...</td>\n",
       "    </tr>\n",
       "    <tr>\n",
       "      <th>1</th>\n",
       "      <td>http://httpforever.com/</td>\n",
       "      <td>2024-06-15 18:11:33.791</td>\n",
       "      <td>&lt;!DOCTYPE HTML&gt;\\r\\n&lt;html&gt;\\r\\n\\t&lt;head&gt;\\r\\n\\t\\t&lt;...</td>\n",
       "    </tr>\n",
       "  </tbody>\n",
       "</table>\n",
       "</div>"
      ],
      "text/plain": [
       "                       url                    date  \\\n",
       "0  http://httpforever.com/ 2024-06-15 17:53:53.485   \n",
       "1  http://httpforever.com/ 2024-06-15 18:11:33.791   \n",
       "\n",
       "                                            contents  \n",
       "0  <!DOCTYPE HTML>\\r\\n<html>\\r\\n\\t<head>\\r\\n\\t\\t<...  \n",
       "1  <!DOCTYPE HTML>\\r\\n<html>\\r\\n\\t<head>\\r\\n\\t\\t<...  "
      ]
     },
     "execution_count": 7,
     "metadata": {},
     "output_type": "execute_result"
    }
   ],
   "source": [
    "df.tail(2)"
   ]
  },
  {
   "cell_type": "code",
   "execution_count": 8,
   "id": "e2a3dcc2-c31e-4fd9-85bb-ac39f0785e92",
   "metadata": {},
   "outputs": [
    {
     "data": {
      "text/plain": [
       "(2, 3)"
      ]
     },
     "execution_count": 8,
     "metadata": {},
     "output_type": "execute_result"
    }
   ],
   "source": [
    "df.shape #charakterystyka zbioru danych"
   ]
  },
  {
   "cell_type": "code",
   "execution_count": 10,
   "id": "134dbfcd-cb6e-4c74-868b-a02a604f9941",
   "metadata": {},
   "outputs": [],
   "source": [
    "df.to_csv(\"lab1_289473.csv\",index=False,sep=\";\",encoding=\"utf8\")"
   ]
  },
  {
   "cell_type": "code",
   "execution_count": 60,
   "id": "bf8d0254-6bf3-4c7e-bc0f-f636ce915c8b",
   "metadata": {},
   "outputs": [],
   "source": [
    "df.to_excel(\"lab1_289473.xlsx\",index=False)"
   ]
  },
  {
   "cell_type": "code",
   "execution_count": 11,
   "id": "928006e4-f0dc-46d2-98df-e65dac27ef45",
   "metadata": {},
   "outputs": [
    {
     "data": {
      "text/plain": [
       "count       2.0\n",
       "mean     5124.0\n",
       "std         0.0\n",
       "min      5124.0\n",
       "25%      5124.0\n",
       "50%      5124.0\n",
       "75%      5124.0\n",
       "max      5124.0\n",
       "Name: length, dtype: float64"
      ]
     },
     "execution_count": 11,
     "metadata": {},
     "output_type": "execute_result"
    }
   ],
   "source": [
    "df['length']=df['contents'].str.len()\n",
    "df['length_url']=df['url'].str.len()\n",
    "df['length'].describe()"
   ]
  },
  {
   "cell_type": "code",
   "execution_count": 12,
   "id": "396be5e5-998d-49f8-a07e-4c1c17e5f6ee",
   "metadata": {},
   "outputs": [
    {
     "data": {
      "text/html": [
       "<div>\n",
       "<style scoped>\n",
       "    .dataframe tbody tr th:only-of-type {\n",
       "        vertical-align: middle;\n",
       "    }\n",
       "\n",
       "    .dataframe tbody tr th {\n",
       "        vertical-align: top;\n",
       "    }\n",
       "\n",
       "    .dataframe thead th {\n",
       "        text-align: right;\n",
       "    }\n",
       "</style>\n",
       "<table border=\"1\" class=\"dataframe\">\n",
       "  <thead>\n",
       "    <tr style=\"text-align: right;\">\n",
       "      <th></th>\n",
       "      <th>url</th>\n",
       "      <th>date</th>\n",
       "      <th>contents</th>\n",
       "      <th>length</th>\n",
       "      <th>length_url</th>\n",
       "    </tr>\n",
       "  </thead>\n",
       "  <tbody>\n",
       "    <tr>\n",
       "      <th>0</th>\n",
       "      <td>http://httpforever.com/</td>\n",
       "      <td>2024-06-15 17:53:53.485</td>\n",
       "      <td>&lt;!DOCTYPE HTML&gt;\\r\\n&lt;html&gt;\\r\\n\\t&lt;head&gt;\\r\\n\\t\\t&lt;...</td>\n",
       "      <td>5124</td>\n",
       "      <td>23</td>\n",
       "    </tr>\n",
       "  </tbody>\n",
       "</table>\n",
       "</div>"
      ],
      "text/plain": [
       "                       url                    date  \\\n",
       "0  http://httpforever.com/ 2024-06-15 17:53:53.485   \n",
       "\n",
       "                                            contents  length  length_url  \n",
       "0  <!DOCTYPE HTML>\\r\\n<html>\\r\\n\\t<head>\\r\\n\\t\\t<...    5124          23  "
      ]
     },
     "execution_count": 12,
     "metadata": {},
     "output_type": "execute_result"
    }
   ],
   "source": [
    "df.head(1)"
   ]
  },
  {
   "cell_type": "code",
   "execution_count": 13,
   "id": "f1364e45-dd67-4d20-9f40-fa05bbc73051",
   "metadata": {},
   "outputs": [
    {
     "data": {
      "text/html": [
       "<div>\n",
       "<style scoped>\n",
       "    .dataframe tbody tr th:only-of-type {\n",
       "        vertical-align: middle;\n",
       "    }\n",
       "\n",
       "    .dataframe tbody tr th {\n",
       "        vertical-align: top;\n",
       "    }\n",
       "\n",
       "    .dataframe thead th {\n",
       "        text-align: right;\n",
       "    }\n",
       "</style>\n",
       "<table border=\"1\" class=\"dataframe\">\n",
       "  <thead>\n",
       "    <tr style=\"text-align: right;\">\n",
       "      <th></th>\n",
       "      <th>length</th>\n",
       "      <th>length_url</th>\n",
       "    </tr>\n",
       "  </thead>\n",
       "  <tbody>\n",
       "    <tr>\n",
       "      <th>length</th>\n",
       "      <td>NaN</td>\n",
       "      <td>NaN</td>\n",
       "    </tr>\n",
       "    <tr>\n",
       "      <th>length_url</th>\n",
       "      <td>NaN</td>\n",
       "      <td>NaN</td>\n",
       "    </tr>\n",
       "  </tbody>\n",
       "</table>\n",
       "</div>"
      ],
      "text/plain": [
       "            length  length_url\n",
       "length         NaN         NaN\n",
       "length_url     NaN         NaN"
      ]
     },
     "execution_count": 13,
     "metadata": {},
     "output_type": "execute_result"
    }
   ],
   "source": [
    "df[['length','length_url']].corr()"
   ]
  },
  {
   "cell_type": "code",
   "execution_count": 70,
   "id": "26a1708e-ff12-41ad-a634-9d0abac30ae1",
   "metadata": {},
   "outputs": [],
   "source": [
    "#df['length'].describe().to_csv(\"statystyki_289473.csv\")"
   ]
  },
  {
   "cell_type": "code",
   "execution_count": 71,
   "id": "05c98029-e239-46ab-9a6d-afc06a243e55",
   "metadata": {},
   "outputs": [
    {
     "data": {
      "text/html": [
       "<div>\n",
       "<style scoped>\n",
       "    .dataframe tbody tr th:only-of-type {\n",
       "        vertical-align: middle;\n",
       "    }\n",
       "\n",
       "    .dataframe tbody tr th {\n",
       "        vertical-align: top;\n",
       "    }\n",
       "\n",
       "    .dataframe thead th {\n",
       "        text-align: right;\n",
       "    }\n",
       "</style>\n",
       "<table border=\"1\" class=\"dataframe\">\n",
       "  <thead>\n",
       "    <tr style=\"text-align: right;\">\n",
       "      <th></th>\n",
       "      <th>url</th>\n",
       "      <th>length</th>\n",
       "    </tr>\n",
       "  </thead>\n",
       "  <tbody>\n",
       "    <tr>\n",
       "      <th>0</th>\n",
       "      <td>http://ug.edu.pl</td>\n",
       "      <td>74360</td>\n",
       "    </tr>\n",
       "  </tbody>\n",
       "</table>\n",
       "</div>"
      ],
      "text/plain": [
       "                url  length\n",
       "0  http://ug.edu.pl   74360"
      ]
     },
     "execution_count": 71,
     "metadata": {},
     "output_type": "execute_result"
    }
   ],
   "source": [
    "df[['url','length']].head(1)"
   ]
  },
  {
   "cell_type": "code",
   "execution_count": 73,
   "id": "07c0f5cf-9df6-4803-9d67-4a9cf40a85dd",
   "metadata": {},
   "outputs": [
    {
     "data": {
      "text/html": [
       "<div>\n",
       "<style scoped>\n",
       "    .dataframe tbody tr th:only-of-type {\n",
       "        vertical-align: middle;\n",
       "    }\n",
       "\n",
       "    .dataframe tbody tr th {\n",
       "        vertical-align: top;\n",
       "    }\n",
       "\n",
       "    .dataframe thead th {\n",
       "        text-align: right;\n",
       "    }\n",
       "</style>\n",
       "<table border=\"1\" class=\"dataframe\">\n",
       "  <thead>\n",
       "    <tr style=\"text-align: right;\">\n",
       "      <th></th>\n",
       "      <th>url</th>\n",
       "      <th>length</th>\n",
       "    </tr>\n",
       "  </thead>\n",
       "  <tbody>\n",
       "    <tr>\n",
       "      <th>2</th>\n",
       "      <td>http://wp.pl</td>\n",
       "      <td>671536</td>\n",
       "    </tr>\n",
       "    <tr>\n",
       "      <th>3</th>\n",
       "      <td>http://wp.pl</td>\n",
       "      <td>671247</td>\n",
       "    </tr>\n",
       "    <tr>\n",
       "      <th>4</th>\n",
       "      <td>http://wp.pl</td>\n",
       "      <td>671097</td>\n",
       "    </tr>\n",
       "    <tr>\n",
       "      <th>12</th>\n",
       "      <td>http://wp.pl</td>\n",
       "      <td>671704</td>\n",
       "    </tr>\n",
       "  </tbody>\n",
       "</table>\n",
       "</div>"
      ],
      "text/plain": [
       "             url  length\n",
       "2   http://wp.pl  671536\n",
       "3   http://wp.pl  671247\n",
       "4   http://wp.pl  671097\n",
       "12  http://wp.pl  671704"
      ]
     },
     "execution_count": 73,
     "metadata": {},
     "output_type": "execute_result"
    }
   ],
   "source": [
    "df[['url','length']][df['url']=='http://wp.pl'].head()"
   ]
  },
  {
   "cell_type": "code",
   "execution_count": 23,
   "id": "d3a666f4-059d-44c0-a3d2-33c722c2c4e9",
   "metadata": {},
   "outputs": [
    {
     "data": {
      "text/plain": [
       "url\n",
       "http://httpforever.com/    1\n",
       "Name: url, dtype: int64"
      ]
     },
     "execution_count": 23,
     "metadata": {},
     "output_type": "execute_result"
    }
   ],
   "source": [
    "df['url'].groupby(df['url']).count()"
   ]
  },
  {
   "cell_type": "code",
   "execution_count": null,
   "id": "83304d83-d323-41f1-9a52-b5e73c3ebbc3",
   "metadata": {},
   "outputs": [],
   "source": []
  }
 ],
 "metadata": {
  "kernelspec": {
   "display_name": "Python 3 (ipykernel)",
   "language": "python",
   "name": "python3"
  },
  "language_info": {
   "codemirror_mode": {
    "name": "ipython",
    "version": 3
   },
   "file_extension": ".py",
   "mimetype": "text/x-python",
   "name": "python",
   "nbconvert_exporter": "python",
   "pygments_lexer": "ipython3",
   "version": "3.9.6"
  }
 },
 "nbformat": 4,
 "nbformat_minor": 5
}
