{
 "cells": [
  {
   "cell_type": "code",
   "execution_count": 1,
   "metadata": {},
   "outputs": [
    {
     "name": "stderr",
     "output_type": "stream",
     "text": [
      "/Users/U756317/Library/Python/3.9/lib/python/site-packages/urllib3/__init__.py:35: NotOpenSSLWarning: urllib3 v2 only supports OpenSSL 1.1.1+, currently the 'ssl' module is compiled with 'LibreSSL 2.8.3'. See: https://github.com/urllib3/urllib3/issues/3020\n",
      "  warnings.warn(\n"
     ]
    }
   ],
   "source": [
    "from pymongo import MongoClient\n",
    "import requests\n",
    "import numpy as np\n",
    "from datetime import datetime\n",
    "from bs4 import BeautifulSoup\n",
    "import pandas as pd\n",
    "class WebScraping:\n",
    "    headers={\"User-Agent\":\"Mozilla/5.0 (Macintosh; Intel Mac OS X 10_15_7) AppleWebKit/605.1.15 (KHTML, like Gecko) Version/17.4.1 Safari/605.1.15\"}\n",
    "    content=\"\"\n",
    "    db=np.nan\n",
    "    def __init__(self): \n",
    "        klient=MongoClient(\"mongodb://127.0.0.1:27017\")\n",
    "        self.db=klient['N5205_2024'] \n",
    "    def pobierz(self,url):\n",
    "        r=requests.get(url,headers=self.headers,verify=False)\n",
    "        self.content=r.text\n",
    "        strona={'url':url,'contents':r.text,'date':datetime.now()}\n",
    "        rezultat=self.db.proj.insert_one(strona) \n",
    "        print(\"Wstawiłem stronę\",url,\"z numerem\",rezultat.inserted_id)\n",
    "    def atrybuty(self,url):\n",
    "        contents=self.db.proj.find_one({'url':url})\n",
    "        soup=BeautifulSoup(contents['contents'],'html.parser')\n",
    "        hotele = soup.findAll('div', {'data-testid': 'property-card'})\n",
    "        hotele_data = []\n",
    "        for hotel in hotele:\n",
    "            nazwa_element = hotel.find('div', {'data-testid': 'title'})\n",
    "            nazwa = nazwa_element.text.strip()\n",
    "            lokacja_element = hotel.find('span', {'data-testid': 'address'})\n",
    "            lokacja = lokacja_element.text.strip()\n",
    "            cena_element = hotel.find('span', {'data-testid': 'price-and-discounted-price'})\n",
    "            cena = cena_element.text.strip()\n",
    "            hotele_data.append({\n",
    "                'nazwa': nazwa,\n",
    "                'lokacja': lokacja,\n",
    "                'cena': cena\n",
    "            })\n",
    "\n",
    "    def zapisz(self,nazwaPliku):\n",
    "        dane=self.db.proj.find({})\n",
    "        for d in dane:\n",
    "            soup=BeautifulSoup(d['contents'],'html.parser')\n",
    "            hotele = soup.findAll('div', {'data-testid': 'property-card'})\n",
    "            hotele_data = []\n",
    "            for hotel in hotele:\n",
    "                nazwa_element = hotel.find('div', {'data-testid': 'title'})\n",
    "                nazwa = nazwa_element.text.strip()\n",
    "                lokacja_element = hotel.find('span', {'data-testid': 'address'})\n",
    "                lokacja = lokacja_element.text.strip()\n",
    "                cena_element = hotel.find('span', {'data-testid': 'price-and-discounted-price'})\n",
    "                cena = cena_element.text.strip()\n",
    "                hotele_data.append({\n",
    "                    'nazwa': nazwa,\n",
    "                    'lokacja': lokacja,\n",
    "                    'cena': cena\n",
    "                })\n",
    "            df=pd.DataFrame(hotele_data)\n",
    "            df.to_csv(nazwaPliku+\".csv\",index=False,sep=\";\")\n",
    "            df.to_excel(nazwaPliku+\".xlsx\",index=False)\n",
    "            \n",
    "    def zapiszJSON(self,nazwaPliku):\n",
    "        dane=self.db.proj.find({})\n",
    "        for d in dane:\n",
    "            soup=BeautifulSoup(d['contents'],'html.parser')\n",
    "            hotele = soup.findAll('div', {'data-testid': 'property-card'})\n",
    "            hotele_data = []\n",
    "            for hotel in hotele:\n",
    "                nazwa_element = hotel.find('div', {'data-testid': 'title'})\n",
    "                nazwa = nazwa_element.text.strip()\n",
    "                lokacja_element = hotel.find('span', {'data-testid': 'address'})\n",
    "                lokacja = lokacja_element.text.strip()\n",
    "                cena_element = hotel.find('span', {'data-testid': 'price-and-discounted-price'})\n",
    "                cena = cena_element.text.strip()\n",
    "                hotele_data.append({\n",
    "                    'nazwa': nazwa,\n",
    "                    'lokacja': lokacja,\n",
    "                    'cena': cena\n",
    "                })\n",
    "            df=pd.DataFrame(hotele_data)\n",
    "            df.to_json(nazwaPliku+\".json\",orient='records')"
   ]
  },
  {
   "cell_type": "code",
   "execution_count": 2,
   "metadata": {},
   "outputs": [
    {
     "name": "stderr",
     "output_type": "stream",
     "text": [
      "/Users/U756317/Library/Python/3.9/lib/python/site-packages/urllib3/connectionpool.py:1103: InsecureRequestWarning: Unverified HTTPS request is being made to host 'www.booking.com'. Adding certificate verification is strongly advised. See: https://urllib3.readthedocs.io/en/latest/advanced-usage.html#tls-warnings\n",
      "  warnings.warn(\n"
     ]
    },
    {
     "name": "stdout",
     "output_type": "stream",
     "text": [
      "Wstawiłem stronę https://www.booking.com/searchresults.en-gb.html?ss=Poznań&ssne=Poznań&ssne_untouched=Poznań&efdco=1&label=gen173nr-1BCAEoggI46AdIM1gEaLYBiAEBmAEJuAEHyAEN2AEB6AEBiAIBqAIDuAKYjrizBsACAdICJDNlOGMyYTZkLTA1OTktNDU5NC1iZDI4LTIwZGRiMTJmMGQ3ZdgCBeACAQ&sid=05ba7057eee40dda6cb3fec45d21d6c2&aid=304142&lang=en-gb&sb=1&src_elem=sb&src=searchresults&dest_id=-523642&dest_type=city&checkin=2024-07-24&checkout=2024-07-25&group_adults=2&no_rooms=1&group_children=0 z numerem 666e0dcefdc9492b38db0b83\n"
     ]
    }
   ],
   "source": [
    "w=WebScraping()\n",
    "w.pobierz(\"https://www.booking.com/searchresults.en-gb.html?ss=Poznań&ssne=Poznań&ssne_untouched=Poznań&efdco=1&label=gen173nr-1BCAEoggI46AdIM1gEaLYBiAEBmAEJuAEHyAEN2AEB6AEBiAIBqAIDuAKYjrizBsACAdICJDNlOGMyYTZkLTA1OTktNDU5NC1iZDI4LTIwZGRiMTJmMGQ3ZdgCBeACAQ&sid=05ba7057eee40dda6cb3fec45d21d6c2&aid=304142&lang=en-gb&sb=1&src_elem=sb&src=searchresults&dest_id=-523642&dest_type=city&checkin=2024-07-24&checkout=2024-07-25&group_adults=2&no_rooms=1&group_children=0\")"
   ]
  },
  {
   "cell_type": "code",
   "execution_count": 5,
   "metadata": {},
   "outputs": [
    {
     "data": {
      "text/plain": [
       "1"
      ]
     },
     "execution_count": 5,
     "metadata": {},
     "output_type": "execute_result"
    }
   ],
   "source": [
    "w.db.proj.count_documents({})"
   ]
  },
  {
   "cell_type": "code",
   "execution_count": 6,
   "metadata": {},
   "outputs": [],
   "source": [
    "w.zapiszJSON(\"projekt_hotele\")"
   ]
  },
  {
   "cell_type": "code",
   "execution_count": 7,
   "metadata": {},
   "outputs": [],
   "source": [
    "w.zapisz(\"projekt_hotele\")"
   ]
  },
  {
   "cell_type": "code",
   "execution_count": 14,
   "metadata": {},
   "outputs": [
    {
     "name": "stdout",
     "output_type": "stream",
     "text": [
      "liczba wierszy 25\n",
      "nazwa\n",
      "Apartamenty Gołębia-Budget                 1\n",
      "B&B Hotel Poznań Old Town                  1\n",
      "Comfortable rooms                          1\n",
      "Cooltour                                   1\n",
      "Economic Mandala Apartment                 1\n",
      "Erasmus Rooms Genius- 24h self check-in    1\n",
      "Fortune Old Town boutique hotel            1\n",
      "Glam House Apartments                      1\n",
      "Gołębia 4                                  1\n",
      "Ionia Apartment - Stary Rynek-             1\n",
      "Kozia 24/25                                1\n",
      "Kozia Store- Stary Rynek                   1\n",
      "Lilia House                                1\n",
      "Mini Apartamenty Poznań                    1\n",
      "Modern&Cozy Rooms                          1\n",
      "Old Town Mystery-                          1\n",
      "PURO Hotel Poznań Stare Miasto             1\n",
      "Plac Wolności 6                            1\n",
      "Rynek 11                                   1\n",
      "Rynek 12                                   1\n",
      "Rynek 5                                    1\n",
      "Rynek 6                                    1\n",
      "Rynek 7                                    1\n",
      "Rynek 9                                    1\n",
      "Villa Wilda                                1\n",
      "Name: nazwa, dtype: int64\n",
      "lokacja\n",
      "Jeżyce, Poznań                    1\n",
      "Stare Miasto District, Poznań    23\n",
      "Wilda, Poznań                     1\n",
      "Name: lokacja, dtype: int64\n"
     ]
    }
   ],
   "source": [
    "df=pd.read_excel('projekt_hotele.xlsx')\n",
    "print('liczba wierszy',df.shape[0])\n",
    "print(df['nazwa'].groupby(df['nazwa']).count())\n",
    "print(df['lokacja'].groupby(df['lokacja']).count())"
   ]
  }
 ],
 "metadata": {
  "kernelspec": {
   "display_name": "Python 3 (ipykernel)",
   "language": "python",
   "name": "python3"
  },
  "language_info": {
   "codemirror_mode": {
    "name": "ipython",
    "version": 3
   },
   "file_extension": ".py",
   "mimetype": "text/x-python",
   "name": "python",
   "nbconvert_exporter": "python",
   "pygments_lexer": "ipython3",
   "version": "3.9.6"
  }
 },
 "nbformat": 4,
 "nbformat_minor": 2
}
