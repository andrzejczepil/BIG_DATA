{
 "cells": [
  {
   "cell_type": "code",
   "execution_count": 1,
   "id": "5ad5c9f0-9a11-478f-a319-c6dbc3c17206",
   "metadata": {},
   "outputs": [],
   "source": [
    "#ZADANIE 1.\n",
    "#Rozpoznaj elementy odpowiedzialne za przechowywanie ofert dotyczących cen.\n",
    "#Wykorzystując klasę WebScraping, zapisz dane w NoSQL a następnie dokonaj eksploracji danych nt. aktualnych cen.\n",
    "\n",
    "#ZADANIE 2.\n",
    "#Utwórz w bazie NoSQL kolekcję do pobierania ofert nieruchomości.\n",
    "\n",
    "#ZADANIE 3.\n",
    "#Utwórz klasę o nazwie WebScraping w której umieść metodę o nazwie skrapuj(). Metoda ta powinna zapisywać strony z nieruchomościami w bazie NoSQL, przyjmując za argument numer podstrony do skrapowania (2,3,4...). W tym punkcie można zrobić refaktoring klasy tworzonej w ramach modułu w ramach wcześniejszych laboratoriów.\n",
    "\n",
    "#ZADANIE 4.\n",
    "#Utwórz metodę atrybuty, która pobierze i wyświetli podstawowe informacje nt. nieruchomości z bazy NoSQL. Wywołaj metodę atrybuty dla wszystkich podstron.\n",
    "\n",
    "#ZADANIE 5.\n",
    "#Utwórz metodę o nazwie zapisz, które będzie zapisywała w pliku CSV atrybuty nowo pobieranych ofert nieruchomości.\n",
    "\n",
    "#ZADANIE 6.\n",
    "#Zmodyfikuj program, aby mógł zapisywać szczegóły dotyczące oferty nieruchomości (miejscowość etc.)\n",
    "\n",
    "#ZADANIE 7.\n",
    "#Utwórz metodę o nazwie zapiszJSON, w której informacje o ofertach nieruchomości będą zapisywane w tej strukturze, a następnie kierowane do bazy NoSQL."
   ]
  },
  {
   "cell_type": "code",
   "execution_count": 2,
   "id": "b9c1ec83-601f-429b-9878-b20aea1bc68e",
   "metadata": {},
   "outputs": [],
   "source": [
    "# LAB 3\n",
    "# ZADANIE 1 i 2\n",
    "from pymongo import MongoClient\n",
    "import requests\n",
    "import numpy as np\n",
    "from datetime import datetime\n",
    "from bs4 import BeautifulSoup\n",
    "import pandas as pd\n",
    "class WebScraping:\n",
    "    headers={\"User-Agent\":\"Mozilla/5.0 (Macintosh; Intel Mac OS X 10_15_7) AppleWebKit/605.1.15 (KHTML, like Gecko) Version/17.4.1 Safari/605.1.15\"}\n",
    "    content=\"\"\n",
    "    db=np.nan\n",
    "    def __init__(self): # konstruktor, wywoływany przy tworzeniu obiektu\n",
    "        klient=MongoClient(\"mongodb://127.0.0.1:27017\")\n",
    "        self.db=klient['N5205_2024'] # łączy się z bazą lub tworzy bazę, jeżeli nie istnieje\n",
    "    def pobierz(self,url):\n",
    "        r=requests.get(url,headers=self.headers,verify=False)\n",
    "        self.content=r.text\n",
    "        strona={'url':url,'contents':r.text,'date':datetime.now()}\n",
    "        rezultat=self.db.lab3.insert_one(strona) # wstawia do kolekcji lab3 w bazie N5205_2024\n",
    "        print(\"Wstawiłem stronę\",url,\"z numerem\",rezultat.inserted_id)\n",
    "    def atrybuty(self,url):\n",
    "        contents=self.db.lab3.find_one({'url':url})\n",
    "        soup=BeautifulSoup(contents['contents'],'html.parser')\n",
    "        \n",
    "        ceny=soup.findAll('span',{'direction':'horizontal'})\n",
    "        adresy=soup.findAll('p',{'data-testid':'advert-card-address'})\n",
    "        cechy=soup.findAll('div',{'data-testid':'advert-card-specs-list'})\n",
    "        for cena, adres, cecha in zip(ceny,adresy,cechy):\n",
    "            print(cena.text.strip(),\";\",adres.text.strip(),\";\",cecha.text.strip())\n",
    "    def zapisz(self,nazwaPliku):\n",
    "        ceny_lista=[]\n",
    "        adresy_lista=[]\n",
    "        cechy_lista=[]\n",
    "        miejscowosci_lista=[]\n",
    "        wojewodztwa_lista=[]\n",
    "        dane=self.db.lab3.find({})\n",
    "        for d in dane:\n",
    "            soup=BeautifulSoup(d['contents'],'html.parser')\n",
    "            ceny=soup.findAll('span',{'direction':'horizontal'})\n",
    "            adresy=soup.findAll('p',{'data-testid':'advert-card-address'})\n",
    "            cechy=soup.findAll('div',{'data-testid':'advert-card-specs-list'})\n",
    "            for adres, cena, cecha in zip(adresy,ceny,cechy):\n",
    "                    adresy_lista.append(adres.text.strip())\n",
    "                    ceny_lista.append(cena.text.strip())\n",
    "                    cechy_lista.append(cecha.text.strip())\n",
    "                    miejscowosci_lista.append(d['url'].split(\"/\")[10].split(\"?\")[0])\n",
    "                    wojewodztwa_lista.append(adres.text.strip().split(\",\")[-1])\n",
    "            # jak zapisać wszystko do df?\n",
    "            df=pd.DataFrame({'adres':adresy_lista,'cena':ceny_lista,'cecha':cechy_lista,\n",
    "                            'miejscowosc':miejscowosci_lista,'wojewodztwo':wojewodztwa_lista})\n",
    "            df.to_csv(nazwaPliku+\".csv\",index=False,sep=\";\")\n",
    "            df.to_excel(nazwaPliku+\".xlsx\",index=False)\n",
    "    def zapiszJSON(self,nazwaPliku):\n",
    "        ceny_lista=[]\n",
    "        adresy_lista=[]\n",
    "        cechy_lista=[]\n",
    "        miejscowosci_lista=[]\n",
    "        wojewodztwa_lista=[]\n",
    "        dane=self.db.lab3.find({})\n",
    "        for d in dane:\n",
    "            soup=BeautifulSoup(d['contents'],'html.parser')\n",
    "            ceny=soup.findAll('span',{'direction':'horizontal'})\n",
    "            adresy=soup.findAll('p',{'data-testid':'advert-card-address'})\n",
    "            cechy=soup.findAll('div',{'data-testid':'advert-card-specs-list'})\n",
    "            for adres, cena, cecha in zip(adresy,ceny,cechy):\n",
    "                    adresy_lista.append(adres.text.strip())\n",
    "                    ceny_lista.append(cena.text.strip())\n",
    "                    cechy_lista.append(cecha.text.strip())\n",
    "                    miejscowosci_lista.append(d['url'].split(\"/\")[10].split(\"?\")[0])\n",
    "                    wojewodztwa_lista.append(adres.text.strip().split(\",\")[-1])\n",
    "            # jak zapisać wszystko do df?\n",
    "            df=pd.DataFrame({'adres':adresy_lista,'cena':ceny_lista,'cecha':cechy_lista,\n",
    "                            'miejscowosc':miejscowosci_lista,'wojewodztwo':wojewodztwa_lista})\n",
    "            df.to_json(nazwaPliku+\".json\",orient='records')"
   ]
  },
  {
   "cell_type": "code",
   "execution_count": null,
   "id": "4ec15185-d2b3-4631-baef-5f03c9a5c1a4",
   "metadata": {},
   "outputs": [],
   "source": []
  },
  {
   "cell_type": "code",
   "execution_count": 3,
   "id": "d1e3b019-f47c-4e41-b605-e94b41fb55c2",
   "metadata": {},
   "outputs": [
    {
     "name": "stderr",
     "output_type": "stream",
     "text": [
      "/Users/U756317/Library/Python/3.9/lib/python/site-packages/urllib3/connectionpool.py:1103: InsecureRequestWarning: Unverified HTTPS request is being made to host 'www.otodom.pl'. Adding certificate verification is strongly advised. See: https://urllib3.readthedocs.io/en/latest/advanced-usage.html#tls-warnings\n",
      "  warnings.warn(\n"
     ]
    },
    {
     "name": "stdout",
     "output_type": "stream",
     "text": [
      "Wstawiłem stronę https://www.otodom.pl/pl/wyniki/sprzedaz/mieszkanie/lubuskie/swiebodzinski/zbaszynek/zbaszynek?limit=36&ownerTypeSingleSelect=ALL&by=DEFAULT&direction=DESC&viewType=listing/page=2 z numerem 666dba0869917d118e73ac03\n"
     ]
    }
   ],
   "source": [
    "w=WebScraping()\n",
    "#w.pobierz(\"https://www.otodom.pl/pl/wyniki/sprzedaz/mieszkanie/lubuskie/swiebodzinski/zbaszynek/zbaszynek?limit=36&ownerTypeSingleSelect=ALL&by=DEFAULT&direction=DESC&viewType=listing/page=2\")"
   ]
  },
  {
   "cell_type": "code",
   "execution_count": 4,
   "id": "59e74ce7-385c-4bb3-b938-0a0270c09db5",
   "metadata": {},
   "outputs": [
    {
     "data": {
      "text/plain": [
       "1"
      ]
     },
     "execution_count": 4,
     "metadata": {},
     "output_type": "execute_result"
    }
   ],
   "source": [
    "w.db.lab3.count_documents({})"
   ]
  },
  {
   "cell_type": "code",
   "execution_count": 5,
   "id": "7e8c1421-7dfa-49c4-8f55-2d21bc8fd5cf",
   "metadata": {},
   "outputs": [
    {
     "name": "stdout",
     "output_type": "stream",
     "text": [
      "zbaszynek 334484\n"
     ]
    }
   ],
   "source": [
    "dane=w.db.lab3.find({})\n",
    "#for d in dane:\n",
    "#    print(d['url'].split(\"/\")[10].split(\"?\")[0],len(d['contents']))\n",
    "#    w.atrybuty(d['url'])"
   ]
  },
  {
   "cell_type": "code",
   "execution_count": 6,
   "id": "f3b6f7fc-9cde-436d-b689-a016a9242c27",
   "metadata": {},
   "outputs": [],
   "source": [
    "w.zapiszJSON(\"nieruchomości_289473\")"
   ]
  },
  {
   "cell_type": "code",
   "execution_count": 8,
   "id": "e28e51e7-5ded-491f-9269-b72b678c40c6",
   "metadata": {},
   "outputs": [],
   "source": [
    "w.zapisz(\"nieruchomości_289473\")"
   ]
  },
  {
   "cell_type": "code",
   "execution_count": 9,
   "id": "368b07f3-ee2c-426c-9792-f03fd4c1ed86",
   "metadata": {},
   "outputs": [
    {
     "name": "stdout",
     "output_type": "stream",
     "text": [
      "liczba wierszy 0\n",
      "Series([], Name: miejscowosc, dtype: int64)\n",
      "Series([], Name: wojewodztwo, dtype: int64)\n",
      "Empty DataFrame\n",
      "Columns: [adres, cena, cecha, miejscowosc, wojewodztwo]\n",
      "Index: []\n"
     ]
    }
   ],
   "source": [
    "df=pd.read_excel('nieruchomości_289473.xlsx')\n",
    "print('liczba wierszy',df.shape[0])\n",
    "print(df['miejscowosc'].groupby(df['miejscowosc']).count())\n",
    "print(df['wojewodztwo'].groupby(df['wojewodztwo']).count())\n",
    "print(df.head())"
   ]
  },
  {
   "cell_type": "code",
   "execution_count": 10,
   "id": "ba7cd57d-2f05-496d-980b-573852fdf85d",
   "metadata": {},
   "outputs": [
    {
     "data": {
      "text/html": [
       "<div>\n",
       "<style scoped>\n",
       "    .dataframe tbody tr th:only-of-type {\n",
       "        vertical-align: middle;\n",
       "    }\n",
       "\n",
       "    .dataframe tbody tr th {\n",
       "        vertical-align: top;\n",
       "    }\n",
       "\n",
       "    .dataframe thead th {\n",
       "        text-align: right;\n",
       "    }\n",
       "</style>\n",
       "<table border=\"1\" class=\"dataframe\">\n",
       "  <thead>\n",
       "    <tr style=\"text-align: right;\">\n",
       "      <th></th>\n",
       "      <th>adres</th>\n",
       "      <th>cena</th>\n",
       "      <th>cecha</th>\n",
       "      <th>miejscowosc</th>\n",
       "      <th>wojewodztwo</th>\n",
       "    </tr>\n",
       "  </thead>\n",
       "  <tbody>\n",
       "  </tbody>\n",
       "</table>\n",
       "</div>"
      ],
      "text/plain": [
       "Empty DataFrame\n",
       "Columns: [adres, cena, cecha, miejscowosc, wojewodztwo]\n",
       "Index: []"
      ]
     },
     "execution_count": 10,
     "metadata": {},
     "output_type": "execute_result"
    }
   ],
   "source": [
    "df"
   ]
  },
  {
   "cell_type": "code",
   "execution_count": null,
   "id": "1ccb8e25-37f4-46d4-bcce-4d312610e41d",
   "metadata": {},
   "outputs": [],
   "source": []
  }
 ],
 "metadata": {
  "kernelspec": {
   "display_name": "Python 3 (ipykernel)",
   "language": "python",
   "name": "python3"
  },
  "language_info": {
   "codemirror_mode": {
    "name": "ipython",
    "version": 3
   },
   "file_extension": ".py",
   "mimetype": "text/x-python",
   "name": "python",
   "nbconvert_exporter": "python",
   "pygments_lexer": "ipython3",
   "version": "3.9.6"
  }
 },
 "nbformat": 4,
 "nbformat_minor": 5
}
